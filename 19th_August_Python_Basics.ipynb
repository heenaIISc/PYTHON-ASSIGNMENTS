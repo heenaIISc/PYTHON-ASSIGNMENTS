{
 "cells": [
  {
   "cell_type": "markdown",
   "id": "c351f49d",
   "metadata": {},
   "source": [
    "# TOPIC: Python Basics Variable"
   ]
  },
  {
   "cell_type": "markdown",
   "id": "bddda5b7",
   "metadata": {},
   "source": [
    "# Answer1-"
   ]
  },
  {
   "cell_type": "code",
   "execution_count": 1,
   "id": "8251f19e",
   "metadata": {},
   "outputs": [
    {
     "name": "stdout",
     "output_type": "stream",
     "text": [
      "Post swapping:\n",
      "x = 10\n",
      "y = 5\n"
     ]
    }
   ],
   "source": [
    "x = 5\n",
    "y = 10\n",
    "\n",
    "# Swapping without a temporary variable\n",
    "x, y = y, x\n",
    "\n",
    "print(\"Post swapping:\")\n",
    "print(\"x =\", x)\n",
    "print(\"y =\", y)\n"
   ]
  },
  {
   "cell_type": "markdown",
   "id": "f8aa56e7",
   "metadata": {},
   "source": [
    "To swap the values of two variables without using a temporary variable in Python.\n",
    "Above code utilizes the tuple feature to swap the values of x and y without the need for a temporary variable. After execution, i found that the values of x and y are successfully swapped."
   ]
  },
  {
   "cell_type": "markdown",
   "id": "66d6fdc2",
   "metadata": {},
   "source": [
    "# Answer2-"
   ]
  },
  {
   "cell_type": "code",
   "execution_count": 2,
   "id": "6b43ab8b",
   "metadata": {},
   "outputs": [
    {
     "name": "stdout",
     "output_type": "stream",
     "text": [
      "Enter the length of the rectangle: 5\n",
      "Enter the width of the rectangle: 6\n",
      "The area of the rectangle with length 5.0 and width 6.0 is: 30.0\n"
     ]
    }
   ],
   "source": [
    "# user input for length and width\n",
    "length = float(input(\"Enter the length of the rectangle: \"))\n",
    "width = float(input(\"Enter the width of the rectangle: \"))\n",
    "\n",
    "# the area of the rectangle\n",
    "area = length * width\n",
    "\n",
    "print(f\"The area of the rectangle with length {length} and width {width} is: {area}\")\n"
   ]
  },
  {
   "cell_type": "markdown",
   "id": "a6ff72d5",
   "metadata": {},
   "source": [
    "-Above Python program for finding the area of a rectangle based on user input for length and width. On giving input the length and width program will then calculate and display the area of the rectangle.\n",
    "-The input function returns a string, so we use float() to convert the user input to a floating-point as the length and width of a rectangle can be decimal values.\n",
    "-The area of a rectangle is calculated by multiplying its length by its width.\n",
    "-f-string (formatted string) is used to insert the values of length, width, and area into the string for a more readable output."
   ]
  },
  {
   "cell_type": "markdown",
   "id": "866bef22",
   "metadata": {},
   "source": [
    "# Answer3-"
   ]
  },
  {
   "cell_type": "code",
   "execution_count": 3,
   "id": "18e88282",
   "metadata": {},
   "outputs": [
    {
     "name": "stdout",
     "output_type": "stream",
     "text": [
      "Enter the temperature in Celsius: 29\n",
      "29.0 degrees Celsius is equal to 84.20 degrees Fahrenheit.\n"
     ]
    }
   ],
   "source": [
    "# user input for temperature in Celsius\n",
    "celsius_temperature = float(input(\"Enter the temperature in Celsius: \"))\n",
    "\n",
    "# Convert Celsius to Fahrenheit\n",
    "fahrenheit_temperature = (celsius_temperature * 9/5) + 32\n",
    "\n",
    "print(f\"{celsius_temperature} degrees Celsius is equal to {fahrenheit_temperature:.2f} degrees Fahrenheit.\")\n"
   ]
  },
  {
   "cell_type": "markdown",
   "id": "937369b4",
   "metadata": {},
   "source": [
    "Here the input function to get user input for the temperature in Celsius. The input is converted to a floating-point number using float().\n",
    "formula to convert Celsius to Fahrenheit is (Celsius * 9/5) + 32.\n",
    "program prints the original Celsius temperature and the converted Fahrenheit temperature using an f-string. The :.2f in the f-string is used to format the floating-point number to two decimal places."
   ]
  },
  {
   "cell_type": "markdown",
   "id": "177158f3",
   "metadata": {},
   "source": [
    "# TOPIC: String Based Questions"
   ]
  },
  {
   "cell_type": "markdown",
   "id": "b600960b",
   "metadata": {},
   "source": [
    "# Answer1-"
   ]
  },
  {
   "cell_type": "code",
   "execution_count": 5,
   "id": "a3b970ac",
   "metadata": {},
   "outputs": [
    {
     "name": "stdout",
     "output_type": "stream",
     "text": [
      "Enter a string: Pikachu is my fav pokemon\n",
      "The length of the string is: 25\n"
     ]
    }
   ],
   "source": [
    "# input for a string\n",
    "user_input = input(\"Enter a string: \")\n",
    "\n",
    "string_length = len(user_input)\n",
    "\n",
    "# result\n",
    "print(f\"The length of the string is: {string_length}\")"
   ]
  },
  {
   "cell_type": "markdown",
   "id": "e2182ab8",
   "metadata": {},
   "source": [
    "Here,Input function to get a string input from the user and stores it in the variable user_input.\n",
    "len function is used to calculate the length of the string, and the result is stored in the variable string_length.\n",
    "program prints the length of the entered string using an f-string."
   ]
  },
  {
   "cell_type": "markdown",
   "id": "892431ca",
   "metadata": {},
   "source": [
    "# Answer2-"
   ]
  },
  {
   "cell_type": "code",
   "execution_count": 6,
   "id": "349c07cc",
   "metadata": {},
   "outputs": [
    {
     "name": "stdout",
     "output_type": "stream",
     "text": [
      "Enter a sentence: heena\n",
      "The number of vowels in the sentence is: 3\n"
     ]
    }
   ],
   "source": [
    "# input\n",
    "user_sentence = input(\"Enter a sentence: \")\n",
    "\n",
    "# variable to count vowels\n",
    "vowel_count = 0\n",
    "\n",
    "# set of vowels\n",
    "vowels = set(\"aeiouAEIOU\")\n",
    "\n",
    "for char in user_sentence:\n",
    "    # Check if the character is a vowel\n",
    "    if char in vowels:\n",
    "        vowel_count += 1\n",
    "        \n",
    "print(f\"The number of vowels in the sentence is: {vowel_count}\")\n"
   ]
  },
  {
   "cell_type": "markdown",
   "id": "181e970a",
   "metadata": {},
   "source": [
    "Here, the input function to get a sentence input from the user and stores it in the variable sentence.\n",
    "Using a set makes it easy to check if a character is a vowel or not.\n",
    "loop goes through each character in the entered sentence and increments the vowel_count if the character is found in the set of vowels.\n",
    "program prints the count of vowels in the entered sentence using an f-string."
   ]
  },
  {
   "cell_type": "markdown",
   "id": "bf916e31",
   "metadata": {},
   "source": [
    "# Answer3-"
   ]
  },
  {
   "cell_type": "code",
   "execution_count": 7,
   "id": "8c59aa65",
   "metadata": {},
   "outputs": [
    {
     "name": "stdout",
     "output_type": "stream",
     "text": [
      "Enter a string: reverse\n",
      "The reversed string is: esrever\n"
     ]
    }
   ],
   "source": [
    "# input\n",
    "original_string = input(\"Enter a string: \")\n",
    "\n",
    "# string slicing\n",
    "reversed_string = original_string[::-1]\n",
    "\n",
    "# reversed string\n",
    "print(f\"The reversed string is: {reversed_string}\")"
   ]
  },
  {
   "cell_type": "markdown",
   "id": "f4ac391a",
   "metadata": {},
   "source": [
    "Here, the input function to get a string input from the user and stores it in the variable original_string.\n",
    "The input function to get a string input from the user and stores it in the variable original_string."
   ]
  },
  {
   "cell_type": "markdown",
   "id": "834c1bc2",
   "metadata": {},
   "source": [
    "# Answer4-"
   ]
  },
  {
   "cell_type": "code",
   "execution_count": 10,
   "id": "a6c8ace3",
   "metadata": {},
   "outputs": [
    {
     "name": "stdout",
     "output_type": "stream",
     "text": [
      "Enter a string: Heena\n",
      "Heena is not a palindrome.\n"
     ]
    }
   ],
   "source": [
    "# input\n",
    "input_string = input(\"Enter a string: \")\n",
    "\n",
    "# Removed spaces and convert to lowercase for the case-insensitive comparison\n",
    "cleaned_string = input_string.replace(\" \", \"\").lower()\n",
    "\n",
    "# Reverse\n",
    "reversed_string = cleaned_string[::-1]\n",
    "\n",
    "# whether the original and reversed strings are the same\n",
    "if cleaned_string == reversed_string:\n",
    "    print(f\"{input_string} is a palindrome.\")\n",
    "else:\n",
    "    print(f\"{input_string} is not a palindrome.\")\n"
   ]
  },
  {
   "cell_type": "markdown",
   "id": "dd1c78d0",
   "metadata": {},
   "source": [
    "Here, the input function to get a string input from the user and stores it in the variable input_string.\n",
    "Remove spaces from the string and converts it to lowercase.\n",
    "I used slice notation to reverse the order of characters in the string."
   ]
  },
  {
   "cell_type": "markdown",
   "id": "c6070099",
   "metadata": {},
   "source": [
    "# Answer5-"
   ]
  },
  {
   "cell_type": "code",
   "execution_count": 11,
   "id": "0864f025",
   "metadata": {},
   "outputs": [
    {
     "name": "stdout",
     "output_type": "stream",
     "text": [
      "Enter a string: PW SKILLS\n",
      "The modified string without spaces is: PWSKILLS\n"
     ]
    }
   ],
   "source": [
    "# input \n",
    "input_string = input(\"Enter a string: \")\n",
    "\n",
    "# Removing spaces\n",
    "modified_string = input_string.replace(\" \", \"\")\n",
    "\n",
    "print(f\"The modified string without spaces is: {modified_string}\")\n"
   ]
  },
  {
   "cell_type": "markdown",
   "id": "d5874e79",
   "metadata": {},
   "source": [
    "Here, i made the input function to get a string input from the user and stores it in the variable input_string.\n",
    "Used \"replace\" method is used to replace all occurrences of spaces with an empty string, effectively removing all spaces from the input string. The result is stored in the variable modified_string."
   ]
  }
 ],
 "metadata": {
  "kernelspec": {
   "display_name": "Python 3 (ipykernel)",
   "language": "python",
   "name": "python3"
  },
  "language_info": {
   "codemirror_mode": {
    "name": "ipython",
    "version": 3
   },
   "file_extension": ".py",
   "mimetype": "text/x-python",
   "name": "python",
   "nbconvert_exporter": "python",
   "pygments_lexer": "ipython3",
   "version": "3.9.13"
  }
 },
 "nbformat": 4,
 "nbformat_minor": 5
}
